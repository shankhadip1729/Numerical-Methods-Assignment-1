{
 "cells": [
  {
   "cell_type": "code",
   "execution_count": 1,
   "id": "51a252e2-4701-4d0f-aad5-a4fd0650d93f",
   "metadata": {},
   "outputs": [
    {
     "name": "stdout",
     "output_type": "stream",
     "text": [
      "Division by zero is indeterminate\n",
      "1 / 1 = 1.0\n",
      "1 / 2 = 0.5\n",
      "1 / 3 = 0.3333333333333333\n",
      "1 / 4 = 0.25\n",
      "1 / 5 = 0.2\n"
     ]
    }
   ],
   "source": [
    "for divisor in range(6):\n",
    "    try:\n",
    "        result = 1 / divisor\n",
    "        print(f\"1 / {divisor} = {result}\")\n",
    "    except ZeroDivisionError:\n",
    "        print(\"Division by zero is indeterminate\")"
   ]
  },
  {
   "cell_type": "code",
   "execution_count": null,
   "id": "1b9de9d2-dd5d-497c-8bbb-3f2bc06f4167",
   "metadata": {},
   "outputs": [],
   "source": []
  }
 ],
 "metadata": {
  "kernelspec": {
   "display_name": "Python 3 (ipykernel)",
   "language": "python",
   "name": "python3"
  },
  "language_info": {
   "codemirror_mode": {
    "name": "ipython",
    "version": 3
   },
   "file_extension": ".py",
   "mimetype": "text/x-python",
   "name": "python",
   "nbconvert_exporter": "python",
   "pygments_lexer": "ipython3",
   "version": "3.12.1"
  }
 },
 "nbformat": 4,
 "nbformat_minor": 5
}
